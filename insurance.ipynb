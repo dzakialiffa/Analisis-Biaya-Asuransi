{
 "cells": [
  {
   "cell_type": "code",
   "execution_count": 108,
   "id": "6c11deae",
   "metadata": {},
   "outputs": [],
   "source": [
    "import pandas as pd       # Untuk manipulasi data dalam bentuk DataFrame\n",
    "import numpy as np        # Untuk operasi numerik dan array\n",
    "import seaborn as sns     # Untuk visualisasi data yang menarik\n",
    "import matplotlib.pyplot as plt  # Untuk membuat plot dan grafik dasar\n",
    "from scipy.stats import levene   # Untuk uji kesamaan varians (uji Levene)"
   ]
  },
  {
   "cell_type": "code",
   "execution_count": null,
   "id": "2adb213bc5d110f6",
   "metadata": {
    "ExecuteTime": {
     "end_time": "2025-06-11T14:38:40.621532Z",
     "start_time": "2025-06-11T14:38:40.507886Z"
    }
   },
   "outputs": [
    {
     "data": {
      "text/html": [
       "<div>\n",
       "<style scoped>\n",
       "    .dataframe tbody tr th:only-of-type {\n",
       "        vertical-align: middle;\n",
       "    }\n",
       "\n",
       "    .dataframe tbody tr th {\n",
       "        vertical-align: top;\n",
       "    }\n",
       "\n",
       "    .dataframe thead th {\n",
       "        text-align: right;\n",
       "    }\n",
       "</style>\n",
       "<table border=\"1\" class=\"dataframe\">\n",
       "  <thead>\n",
       "    <tr style=\"text-align: right;\">\n",
       "      <th></th>\n",
       "      <th>age</th>\n",
       "      <th>sex</th>\n",
       "      <th>bmi</th>\n",
       "      <th>children</th>\n",
       "      <th>smoker</th>\n",
       "      <th>region</th>\n",
       "      <th>charges</th>\n",
       "    </tr>\n",
       "  </thead>\n",
       "  <tbody>\n",
       "    <tr>\n",
       "      <th>0</th>\n",
       "      <td>19</td>\n",
       "      <td>female</td>\n",
       "      <td>27.900</td>\n",
       "      <td>0</td>\n",
       "      <td>yes</td>\n",
       "      <td>southwest</td>\n",
       "      <td>16884.92400</td>\n",
       "    </tr>\n",
       "    <tr>\n",
       "      <th>1</th>\n",
       "      <td>18</td>\n",
       "      <td>male</td>\n",
       "      <td>33.770</td>\n",
       "      <td>1</td>\n",
       "      <td>no</td>\n",
       "      <td>southeast</td>\n",
       "      <td>1725.55230</td>\n",
       "    </tr>\n",
       "    <tr>\n",
       "      <th>2</th>\n",
       "      <td>28</td>\n",
       "      <td>male</td>\n",
       "      <td>33.000</td>\n",
       "      <td>3</td>\n",
       "      <td>no</td>\n",
       "      <td>southeast</td>\n",
       "      <td>4449.46200</td>\n",
       "    </tr>\n",
       "    <tr>\n",
       "      <th>3</th>\n",
       "      <td>33</td>\n",
       "      <td>male</td>\n",
       "      <td>22.705</td>\n",
       "      <td>0</td>\n",
       "      <td>no</td>\n",
       "      <td>northwest</td>\n",
       "      <td>21984.47061</td>\n",
       "    </tr>\n",
       "    <tr>\n",
       "      <th>4</th>\n",
       "      <td>32</td>\n",
       "      <td>male</td>\n",
       "      <td>28.880</td>\n",
       "      <td>0</td>\n",
       "      <td>no</td>\n",
       "      <td>northwest</td>\n",
       "      <td>3866.85520</td>\n",
       "    </tr>\n",
       "  </tbody>\n",
       "</table>\n",
       "</div>"
      ],
      "text/plain": [
       "   age     sex     bmi  children smoker     region      charges\n",
       "0   19  female  27.900         0    yes  southwest  16884.92400\n",
       "1   18    male  33.770         1     no  southeast   1725.55230\n",
       "2   28    male  33.000         3     no  southeast   4449.46200\n",
       "3   33    male  22.705         0     no  northwest  21984.47061\n",
       "4   32    male  28.880         0     no  northwest   3866.85520"
      ]
     },
     "execution_count": 113,
     "metadata": {},
     "output_type": "execute_result"
    }
   ],
   "source": [
    "df = pd.read_csv(\"insurance.csv\")  # Membaca file CSV dan menyimpannya ke dalam DataFrame\n",
    "df.head() # Menampilkan 5 baris pertama dari DataFrame"
   ]
  },
  {
   "cell_type": "code",
   "execution_count": 120,
   "id": "73504988",
   "metadata": {},
   "outputs": [
    {
     "name": "stdout",
     "output_type": "stream",
     "text": [
      "<class 'pandas.core.frame.DataFrame'>\n",
      "RangeIndex: 1338 entries, 0 to 1337\n",
      "Data columns (total 7 columns):\n",
      " #   Column    Non-Null Count  Dtype  \n",
      "---  ------    --------------  -----  \n",
      " 0   age       1338 non-null   int64  \n",
      " 1   sex       1338 non-null   object \n",
      " 2   bmi       1338 non-null   float64\n",
      " 3   children  1338 non-null   int64  \n",
      " 4   smoker    1338 non-null   object \n",
      " 5   region    1338 non-null   object \n",
      " 6   charges   1338 non-null   float64\n",
      "dtypes: float64(2), int64(2), object(3)\n",
      "memory usage: 73.3+ KB\n"
     ]
    }
   ],
   "source": [
    "df.info()  # Menampilkan informasi umum tentang DataFrame, termasuk tipe data dan jumlah nilai non-nul"
   ]
  },
  {
   "cell_type": "code",
   "execution_count": 117,
   "id": "bfefa304",
   "metadata": {},
   "outputs": [
    {
     "data": {
      "text/plain": [
       "Index(['age', 'sex', 'bmi', 'children', 'smoker', 'region', 'charges'], dtype='object')"
      ]
     },
     "execution_count": 117,
     "metadata": {},
     "output_type": "execute_result"
    }
   ],
   "source": [
    "df.columns  # Menampilkan nama-nama kolom dalam DataFrame"
   ]
  },
  {
   "cell_type": "code",
   "execution_count": 121,
   "id": "6618341f79504734",
   "metadata": {
    "ExecuteTime": {
     "end_time": "2025-06-11T14:42:05.497442Z",
     "start_time": "2025-06-11T14:42:05.446354Z"
    }
   },
   "outputs": [
    {
     "data": {
      "text/html": [
       "<div>\n",
       "<style scoped>\n",
       "    .dataframe tbody tr th:only-of-type {\n",
       "        vertical-align: middle;\n",
       "    }\n",
       "\n",
       "    .dataframe tbody tr th {\n",
       "        vertical-align: top;\n",
       "    }\n",
       "\n",
       "    .dataframe thead th {\n",
       "        text-align: right;\n",
       "    }\n",
       "</style>\n",
       "<table border=\"1\" class=\"dataframe\">\n",
       "  <thead>\n",
       "    <tr style=\"text-align: right;\">\n",
       "      <th></th>\n",
       "      <th>age</th>\n",
       "      <th>bmi</th>\n",
       "      <th>children</th>\n",
       "      <th>charges</th>\n",
       "    </tr>\n",
       "  </thead>\n",
       "  <tbody>\n",
       "    <tr>\n",
       "      <th>count</th>\n",
       "      <td>1338.000000</td>\n",
       "      <td>1338.000000</td>\n",
       "      <td>1338.000000</td>\n",
       "      <td>1338.000000</td>\n",
       "    </tr>\n",
       "    <tr>\n",
       "      <th>mean</th>\n",
       "      <td>39.207025</td>\n",
       "      <td>30.663397</td>\n",
       "      <td>1.094918</td>\n",
       "      <td>13270.422265</td>\n",
       "    </tr>\n",
       "    <tr>\n",
       "      <th>std</th>\n",
       "      <td>14.049960</td>\n",
       "      <td>6.098187</td>\n",
       "      <td>1.205493</td>\n",
       "      <td>12110.011237</td>\n",
       "    </tr>\n",
       "    <tr>\n",
       "      <th>min</th>\n",
       "      <td>18.000000</td>\n",
       "      <td>15.960000</td>\n",
       "      <td>0.000000</td>\n",
       "      <td>1121.873900</td>\n",
       "    </tr>\n",
       "    <tr>\n",
       "      <th>25%</th>\n",
       "      <td>27.000000</td>\n",
       "      <td>26.296250</td>\n",
       "      <td>0.000000</td>\n",
       "      <td>4740.287150</td>\n",
       "    </tr>\n",
       "    <tr>\n",
       "      <th>50%</th>\n",
       "      <td>39.000000</td>\n",
       "      <td>30.400000</td>\n",
       "      <td>1.000000</td>\n",
       "      <td>9382.033000</td>\n",
       "    </tr>\n",
       "    <tr>\n",
       "      <th>75%</th>\n",
       "      <td>51.000000</td>\n",
       "      <td>34.693750</td>\n",
       "      <td>2.000000</td>\n",
       "      <td>16639.912515</td>\n",
       "    </tr>\n",
       "    <tr>\n",
       "      <th>max</th>\n",
       "      <td>64.000000</td>\n",
       "      <td>53.130000</td>\n",
       "      <td>5.000000</td>\n",
       "      <td>63770.428010</td>\n",
       "    </tr>\n",
       "  </tbody>\n",
       "</table>\n",
       "</div>"
      ],
      "text/plain": [
       "               age          bmi     children       charges\n",
       "count  1338.000000  1338.000000  1338.000000   1338.000000\n",
       "mean     39.207025    30.663397     1.094918  13270.422265\n",
       "std      14.049960     6.098187     1.205493  12110.011237\n",
       "min      18.000000    15.960000     0.000000   1121.873900\n",
       "25%      27.000000    26.296250     0.000000   4740.287150\n",
       "50%      39.000000    30.400000     1.000000   9382.033000\n",
       "75%      51.000000    34.693750     2.000000  16639.912515\n",
       "max      64.000000    53.130000     5.000000  63770.428010"
      ]
     },
     "execution_count": 121,
     "metadata": {},
     "output_type": "execute_result"
    }
   ],
   "source": [
    "df.describe()  # Menampilkan ringkasan statistik deskriptif untuk kolom numerik\n"
   ]
  },
  {
   "cell_type": "markdown",
   "id": "08f3dd75",
   "metadata": {},
   "source": [
    "## 📊 Hasil `df.describe()`\n",
    "\n",
    "Fungsi `df.describe()` digunakan untuk menampilkan ringkasan statistik deskriptif dari kolom-kolom numerik dalam dataset.\n",
    "\n",
    "### Penjelasan Statistik\n",
    "\n",
    "| Statistik | Arti                                                                 |\n",
    "|-----------|----------------------------------------------------------------------|\n",
    "| `count`   | Jumlah data (non-NaN) pada kolom. Semua kolom memiliki 1.338 data.  |\n",
    "| `mean`    | Rata-rata nilai kolom. Contoh: usia rata-rata adalah **39.21 tahun**. |\n",
    "| `std`     | Standard deviation (simpangan baku) — mengukur sebaran data.        |\n",
    "| `min`     | Nilai terkecil di kolom tersebut.                                   |\n",
    "| `25%`     | Kuartil pertama (Q1) — 25% data berada di bawah nilai ini.          |\n",
    "| `50%`     | Median atau kuartil kedua (Q2) — nilai tengah data.                 |\n",
    "| `75%`     | Kuartil ketiga (Q3) — 75% data berada di bawah nilai ini.           |\n",
    "| `max`     | Nilai terbesar di kolom tersebut.                                   |\n",
    "\n",
    "---\n",
    "\n",
    "### 📌 Analisis Singkat per Kolom\n",
    "\n",
    "#### 🧓 `age` (Umur)\n",
    "- Rata-rata usia: **39.2 tahun**\n",
    "- Rentang usia: **18 – 64 tahun**\n",
    "- Sebagian besar peserta berusia antara **27 (Q1)** dan **51 tahun (Q3)**\n",
    "\n",
    "#### ⚖️ `bmi` (Body Mass Index)\n",
    "- Rata-rata BMI: **30.66** → termasuk kategori **obesitas kelas 1**\n",
    "- Rentang BMI: **15.96 – 53.13**\n",
    "- 50% peserta memiliki BMI antara **26.3 – 34.7**\n",
    "\n",
    "#### 👶 `children` (Jumlah Anak)\n",
    "- Rata-rata anak: **1.09**\n",
    "- Median = **1**, Q1 = **0** → banyak peserta tidak memiliki anak\n",
    "- Maksimum anak = **5**\n",
    "\n",
    "#### 💰 `charges` (Biaya Asuransi)\n",
    "- Rata-rata biaya: **13.270**\n",
    "- Biaya minimum: **1.121**, maksimum: **63.770**\n",
    "- Sebaran sangat lebar → indikasi adanya **outlier** atau variasi besar antar peserta\n",
    "\n",
    "---\n",
    "\n",
    "### 📍 Kesimpulan Awal\n",
    "Dataset ini terdiri dari 1.338 entri dengan kolom-kolom numerik yang memiliki sebaran cukup besar, khususnya pada kolom `charges`. Ini menunjukkan bahwa analisis lebih lanjut seperti visualisasi dan deteksi outlier sangat penting untuk memahami pola-pola yang ada.\n"
   ]
  },
  {
   "cell_type": "code",
   "execution_count": null,
   "id": "46cf4827ebfa1319",
   "metadata": {
    "ExecuteTime": {
     "end_time": "2025-06-11T14:43:21.913784Z",
     "start_time": "2025-06-11T14:43:21.338574Z"
    }
   },
   "outputs": [
    {
     "data": {
      "image/png": "[encoded data removed]",
      "text/plain": [
       "<Figure size 640x480 with 1 Axes>"
      ]
     },
     "metadata": {},
     "output_type": "display_data"
    }
   ],
   "source": [
    "bars = np.round(df[['charges', 'smoker']]\n",
    "                .groupby(['smoker'])['charges']\n",
    "                .mean(), 2).plot(kind='bar',\n",
    "                                 color='orange', \n",
    "                                 title='Perbandingan Rata-Rata Tagihan Perokok dan Non Perokok')\n"
   ]
  },
  {
   "cell_type": "markdown",
   "id": "78a98802",
   "metadata": {},
   "source": [
    "## 📊 Perbandingan Rata-Rata Tagihan Perokok dan Non-Perokok\n",
    "\n",
    "Grafik di atas menunjukkan **rata-rata tagihan asuransi (`charges`)** berdasarkan status merokok (`smoker`) peserta:\n",
    "\n",
    "- **Perokok (`yes`)** memiliki rata-rata tagihan sekitar **33.000**.\n",
    "- **Non-perokok (`no`)** memiliki rata-rata tagihan sekitar **8.000**.\n",
    "\n",
    "### 🔍 Insight:\n",
    "Terdapat **selisih yang sangat besar** antara perokok dan non-perokok. Ini menunjukkan bahwa:\n",
    "- Perokok memiliki risiko kesehatan yang lebih tinggi.\n",
    "- Hal ini menyebabkan **biaya asuransi mereka jauh lebih mahal**."
   ]
  },
  {
   "cell_type": "code",
   "execution_count": 126,
   "id": "74674831c5b33d1a",
   "metadata": {
    "ExecuteTime": {
     "end_time": "2025-06-11T14:43:40.477085Z",
     "start_time": "2025-06-11T14:43:40.467202Z"
    }
   },
   "outputs": [
    {
     "data": {
      "text/plain": [
       "sex\n",
       "female    30.38\n",
       "male      30.94\n",
       "Name: bmi, dtype: float64"
      ]
     },
     "execution_count": 126,
     "metadata": {},
     "output_type": "execute_result"
    }
   ],
   "source": [
    "np.round(df[['bmi', 'sex']].groupby(['sex'])['bmi'].mean(), 2)"
   ]
  },
  {
   "cell_type": "code",
   "execution_count": 94,
   "id": "24e9bf43df9e206a",
   "metadata": {
    "ExecuteTime": {
     "end_time": "2025-06-11T14:43:51.760918Z",
     "start_time": "2025-06-11T14:43:51.749132Z"
    }
   },
   "outputs": [
    {
     "data": {
      "text/plain": [
       "smoker\n",
       "no     30.65\n",
       "yes    30.71\n",
       "Name: bmi, dtype: float64"
      ]
     },
     "execution_count": 94,
     "metadata": {},
     "output_type": "execute_result"
    }
   ],
   "source": [
    "np.round(df[['bmi', 'smoker']].groupby(['smoker'])['bmi'].mean(), 2)"
   ]
  },
  {
   "cell_type": "code",
   "execution_count": 127,
   "id": "670c0800bd523a21",
   "metadata": {
    "ExecuteTime": {
     "end_time": "2025-06-11T14:44:02.617175Z",
     "start_time": "2025-06-11T14:44:02.608777Z"
    }
   },
   "outputs": [
    {
     "name": "stdout",
     "output_type": "stream",
     "text": [
      "Jumlah pengguna tiap region:\n",
      "region\n",
      "southeast    364\n",
      "southwest    325\n",
      "northwest    325\n",
      "northeast    324\n",
      "Name: count, dtype: int64\n"
     ]
    }
   ],
   "source": [
    "region_prop = (df['region']).value_counts()  # Menghitung jumlah pengguna di setiap region\n",
    "print(\"Jumlah pengguna tiap region:\")\n",
    "print(region_prop)                           # Menampilkan hasil perhitungan"
   ]
  },
  {
   "cell_type": "code",
   "execution_count": 129,
   "id": "3b7951d419a0bc96",
   "metadata": {
    "ExecuteTime": {
     "end_time": "2025-06-11T14:44:15.993291Z",
     "start_time": "2025-06-11T14:44:15.592132Z"
    }
   },
   "outputs": [
    {
     "data": {
      "text/plain": [
       "[Text(0.5, 1.0, 'Proporsi Peserta Asuransi pada Setiap Region')]"
      ]
     },
     "execution_count": 129,
     "metadata": {},
     "output_type": "execute_result"
    },
    {
     "data": {
      "image/png": "[encoded data removed]",
      "text/plain": [
       "<Figure size 640x480 with 1 Axes>"
      ]
     },
     "metadata": {},
     "output_type": "display_data"
    }
   ],
   "source": [
    "# Mengatur palette warna agar lebih menarik dan berbeda dari default\n",
    "sns.set_palette(\"Set2\")  # Bisa diganti: \"Pastel1\", \"Set3\", \"Dark2\", dll\n",
    "\n",
    "# Membuat countplot jumlah peserta asuransi per region\n",
    "sns.countplot(x=df['region']).set(title='Proporsi Peserta Asuransi pada Setiap Region')\n"
   ]
  },
  {
   "cell_type": "code",
   "execution_count": 140,
   "id": "5c92e2c192f33b7b",
   "metadata": {
    "ExecuteTime": {
     "end_time": "2025-06-11T14:49:24.979601Z",
     "start_time": "2025-06-11T14:49:24.698859Z"
    }
   },
   "outputs": [
    {
     "data": {
      "image/png": "[encoded data removed]",
      "text/plain": [
       "<Figure size 700x700 with 1 Axes>"
      ]
     },
     "metadata": {},
     "output_type": "display_data"
    }
   ],
   "source": [
    "# Visualisasi proporsi perokok dan non-perokok dengan pie chart\n",
    "\n",
    "# Mengatur warna agar lebih menarik\n",
    "colors = ['#66c2a5', '#fc8d62']  # 'no' = hijau kebiruan, 'yes' = oranye\n",
    "\n",
    "# Membuat pie chart\n",
    "fig1 = df['smoker'].value_counts().plot(\n",
    "    kind='pie',                      # Jenis plot\n",
    "    startangle=90,                   # Rotasi agar dimulai dari atas\n",
    "    title='Perbandingan Proporsi Perokok dan Non Perokok',\n",
    "    figsize=(7, 7),                  # Ukuran plot\n",
    "    autopct='%1.1f%%',              # Menampilkan persentase\n",
    "    colors=colors,                   # Warna yang digunakan\n",
    "    legend=False,                    # Tidak perlu legend karena label sudah ada\n",
    "    ylabel=''                        # Menghilangkan label sumbu Y\n",
    ")"
   ]
  },
  {
   "cell_type": "code",
   "execution_count": 143,
   "id": "20f4e53f7985eede",
   "metadata": {
    "ExecuteTime": {
     "end_time": "2025-06-11T14:49:46.804776Z",
     "start_time": "2025-06-11T14:49:46.791585Z"
    }
   },
   "outputs": [
    {
     "name": "stdout",
     "output_type": "stream",
     "text": [
      "Peluang jenis kelamin perempuan diketahui perokok adalah sebesar 0.17\n"
     ]
    },
    {
     "name": "stderr",
     "output_type": "stream",
     "text": [
      "C:\\Users\\dzaki\\AppData\\Local\\Temp\\ipykernel_2544\\774611025.py:2: FutureWarning: Series.__getitem__ treating keys as positions is deprecated. In a future version, integer keys will always be treated as labels (consistent with DataFrame behavior). To access a value by position, use `ser.iloc[pos]`\n",
      "  p_smoker_f = smoker_f[1] / smoker_f.sum()\n"
     ]
    }
   ],
   "source": [
    "smoker_f = df['smoker'].where(df['sex']=='female').value_counts()\n",
    "p_smoker_f = smoker_f[1] / smoker_f.sum()\n",
    "print(\"Peluang jenis kelamin perempuan diketahui perokok adalah sebesar {}\".format(np.round(p_smoker_f, 2)))"
   ]
  },
  {
   "cell_type": "code",
   "execution_count": 144,
   "id": "3aa1cfc0d61970ee",
   "metadata": {
    "ExecuteTime": {
     "end_time": "2025-06-11T14:50:06.935201Z",
     "start_time": "2025-06-11T14:50:06.926938Z"
    }
   },
   "outputs": [
    {
     "name": "stdout",
     "output_type": "stream",
     "text": [
      "Peluang jenis kelamin laki - laki diketahui perokok adalah sebesar 0.24\n"
     ]
    },
    {
     "name": "stderr",
     "output_type": "stream",
     "text": [
      "C:\\Users\\dzaki\\AppData\\Local\\Temp\\ipykernel_2544\\619747092.py:2: FutureWarning: Series.__getitem__ treating keys as positions is deprecated. In a future version, integer keys will always be treated as labels (consistent with DataFrame behavior). To access a value by position, use `ser.iloc[pos]`\n",
      "  p_smoker_m = smoker_m[1] / smoker_m.sum()\n"
     ]
    }
   ],
   "source": [
    "smoker_m = df['smoker'].where(df['sex']=='male').value_counts()\n",
    "p_smoker_m = smoker_m[1] / smoker_m.sum()\n",
    "print(\"Peluang jenis kelamin laki - laki diketahui perokok adalah sebesar {}\".format(np.round(p_smoker_m, 2)))"
   ]
  },
  {
   "cell_type": "markdown",
   "id": "363640a3",
   "metadata": {},
   "source": [
    "## 🎯 Interpretasi Peluang Merokok Berdasarkan Jenis Kelamin\n",
    "\n",
    "### 📌 Apa itu nilai peluang (probabilitas)?\n",
    "Nilai seperti `0.17` atau `0.24` adalah **peluang (probabilitas)**, yaitu ukuran kemungkinan suatu kejadian terjadi.\n",
    "\n",
    "---\n",
    "\n",
    "### 📊 Contoh Hasil\n",
    "| Jenis Kelamin | Peluang Merokok | Interpretasi |\n",
    "|---------------|------------------|--------------|\n",
    "| Perempuan     | 0.17 (17%)       | Dari 100 perempuan, sekitar 17 orang adalah perokok |\n",
    "| Laki-laki     | 0.24 (24%)       | Dari 100 laki-laki, sekitar 24 orang adalah perokok |"
   ]
  },
  {
   "cell_type": "code",
   "execution_count": 198,
   "id": "d676f9ca",
   "metadata": {},
   "outputs": [
    {
     "name": "stderr",
     "output_type": "stream",
     "text": [
      "C:\\Users\\dzaki\\AppData\\Local\\Temp\\ipykernel_2544\\3515783836.py:6: FutureWarning: \n",
      "\n",
      "Passing `palette` without assigning `hue` is deprecated and will be removed in v0.14.0. Assign the `x` variable to `hue` and set `legend=False` for the same effect.\n",
      "\n",
      "  sns.boxplot(x='region', y='charges', data=df, palette='coolwarm')\n"
     ]
    },
    {
     "data": {
      "image/png": "[encoded data removed]",
      "text/plain": [
       "<Figure size 800x600 with 1 Axes>"
      ]
     },
     "metadata": {},
     "output_type": "display_data"
    }
   ],
   "source": [
    "import seaborn as sns\n",
    "import matplotlib.pyplot as plt\n",
    "\n",
    "# Visualisasi boxplot untuk menunjukkan distribusi\n",
    "plt.figure(figsize=(8,6))\n",
    "sns.boxplot(x='region', y='charges', data=df, palette='coolwarm')\n",
    "\n",
    "# Menambahkan title dan labels\n",
    "plt.title('Distribusi Biaya per Region (Min, Median, Maksimum)', fontsize=16)\n",
    "plt.xlabel('Region', fontsize=12)\n",
    "plt.ylabel('Biaya (USD)', fontsize=12)\n",
    "\n",
    "# Tampilkan plot\n",
    "plt.show()\n"
   ]
  },
  {
   "cell_type": "markdown",
   "id": "8176042d",
   "metadata": {},
   "source": [
    "## 📊 Distribusi Biaya Medis (`charges`) per Region\n",
    "\n",
    "Visualisasi ini menunjukkan distribusi biaya medis (`charges`) berdasarkan 4 wilayah/regional yaitu:\n",
    "- **Southwest**\n",
    "- **Southeast**\n",
    "- **Northwest**\n",
    "- **Northeast**\n",
    "\n",
    "### 🔍 Penjelasan:\n",
    "\n",
    "- **Sumbu X (horizontal)**: Menunjukkan nilai `charges`, yaitu total biaya medis (asuransi).\n",
    "- **Sumbu Y (vertikal)**: Menunjukkan jumlah orang (`count`) yang memiliki nilai `charges` tertentu.\n",
    "- Setiap panel menunjukkan distribusi untuk **region** yang berbeda, artinya kita bisa membandingkan bagaimana distribusi `charges` di setiap wilayah.\n",
    "\n",
    "### 🧠 Insight Awal:\n",
    "\n",
    "- Di **semua region**, mayoritas orang memiliki `charges` di bawah **20.000**.\n",
    "- Ada sedikit orang yang memiliki `charges` sangat tinggi (hingga lebih dari **60.000**) — ini disebut **outlier**.\n",
    "- **Southeast** tampak memiliki distribusi `charges` tinggi yang lebih menyebar daripada region lain, kemungkinan karena faktor-faktor seperti banyaknya perokok, BMI tinggi, atau kondisi kesehatan tertentu di wilayah tersebut.\n",
    "\n",
    "### ✅ Kesimpulan Awal:\n",
    "Distribusi biaya medis secara umum mirip di keempat region, tapi:\n",
    "- **Southeast** menunjukkan lebih banyak orang dengan `charges` tinggi dibanding region lain.\n",
    "- Ini bisa menjadi tanda bahwa region ini memiliki lebih banyak risiko kesehatan atau kebiasaan yang menyebabkan biaya medis lebih mahal.\n"
   ]
  },
  {
   "cell_type": "code",
   "execution_count": 153,
   "id": "11f92ca1c171e25a",
   "metadata": {
    "ExecuteTime": {
     "end_time": "2025-06-11T14:50:36.865702Z",
     "start_time": "2025-06-11T14:50:36.833731Z"
    }
   },
   "outputs": [
    {
     "name": "stdout",
     "output_type": "stream",
     "text": [
      "Probability orang dengan BMI > 25 dan tagihan kesehatan > 16.7K adalah 0.85\n",
      "Probability orang dengan BMI < 25 dan tagihan kesehatan > 16.7K adalah 0.15\n"
     ]
    }
   ],
   "source": [
    "# Ambil jumlah total orang yang memiliki tagihan kesehatan lebih dari 16.7K\n",
    "sample = df[df['charges'] > 16700].value_counts().sum()\n",
    "\n",
    "# Hitung jumlah orang yang memiliki BMI > 25 dan tagihan kesehatan > 16.7K\n",
    "jumlah_up = df.where((df['bmi'] > 25) & (df['charges'] > 16700)).value_counts().sum()\n",
    "\n",
    "# Hitung jumlah orang yang memiliki BMI < 25 dan tagihan kesehatan > 16.7K\n",
    "jumlah_down = df.where((df['bmi'] < 25) & (df['charges'] > 16700)).value_counts().sum()\n",
    "\n",
    "# Hitung probabilitas bahwa seseorang dengan tagihan > 16.7K memiliki BMI > 25\n",
    "p_up = jumlah_up / sample\n",
    "\n",
    "# Hitung probabilitas bahwa seseorang dengan tagihan > 16.7K memiliki BMI < 25\n",
    "p_down = jumlah_down / sample\n",
    "\n",
    "# Cetak hasil probabilitas untuk BMI > 25 dan charges > 16.7K\n",
    "print(\"Probability orang dengan BMI > 25 dan tagihan kesehatan > 16.7K adalah {}\".format(np.round(p_up, 2)))\n",
    "\n",
    "# Cetak hasil probabilitas untuk BMI < 25 dan charges > 16.7K\n",
    "print(\"Probability orang dengan BMI < 25 dan tagihan kesehatan > 16.7K adalah {}\".format(np.round(p_down, 2)))\n"
   ]
  },
  {
   "cell_type": "markdown",
   "id": "8959b31f",
   "metadata": {},
   "source": [
    "## 📊 Kesimpulan Analisis BMI dan Tagihan Kesehatan\n",
    "\n",
    "- Dari semua orang yang memiliki **tagihan kesehatan lebih dari 16.700**:\n",
    "  - **85%** di antaranya memiliki **BMI > 25** (kelebihan berat badan).\n",
    "  - **15%** sisanya memiliki **BMI < 25** (berat badan normal atau kurus).\n",
    "\n",
    "### ✅ Kesimpulan Sederhana:\n",
    "Orang dengan **BMI lebih dari 25** cenderung memiliki **biaya kesehatan yang lebih tinggi**.\n",
    "\n",
    "Ini bisa menunjukkan bahwa **kelebihan berat badan berkaitan dengan risiko kesehatan dan pengeluaran medis yang lebih besar**.\n"
   ]
  },
  {
   "cell_type": "code",
   "execution_count": 102,
   "id": "a5d4b0f94d963d6",
   "metadata": {
    "ExecuteTime": {
     "end_time": "2025-06-11T14:50:50.219586Z",
     "start_time": "2025-06-11T14:50:50.195523Z"
    }
   },
   "outputs": [
    {
     "name": "stdout",
     "output_type": "stream",
     "text": [
      "Probability orang perokok dengan BMI > 25 dan tagihan kesehatan > 16.7K adalah 0.64\n",
      "Probability orang non perokok dengan BMI > 25 dan tagihan kesehatan > 16.7K adalah 0.2\n"
     ]
    }
   ],
   "source": [
    "# Sample masih menggunakan pada point 3.1 sebelumnya karena sama\n",
    "\n",
    "# Jumlah orang untuk poin 2a dan 2b\n",
    "jumlah_yes = df.where((df['smoker']=='yes') & (df['bmi']>25) & (df['charges']>16700)).value_counts().sum()\n",
    "jumlah_no = df.where((df['smoker']=='no') & (df['bmi']>25) & (df['charges']>16700)).value_counts().sum()\n",
    "\n",
    "# Probability\n",
    "p_yes = jumlah_yes/sample\n",
    "p_no = jumlah_no/sample\n",
    "\n",
    "# Print\n",
    "print(\"Probability orang perokok dengan BMI > 25 dan tagihan kesehatan > 16.7K adalah {}\".format(np.round(p_yes, 2)))\n",
    "print(\"Probability orang non perokok dengan BMI > 25 dan tagihan kesehatan > 16.7K adalah {}\".format(np.round(p_no, 2)))"
   ]
  },
  {
   "cell_type": "markdown",
   "id": "c1c08fe8",
   "metadata": {},
   "source": [
    "## 🚬 Analisis Perokok, BMI, dan Tagihan Kesehatan\n",
    "\n",
    "- Dari semua orang yang memiliki **tagihan kesehatan > 16.700** dan **BMI > 25**:\n",
    "  - **64%** adalah **perokok**.\n",
    "  - **20%** adalah **non-perokok**.\n",
    "\n",
    "### ✅ Kesimpulan Sederhana:\n",
    "Perokok yang memiliki kelebihan berat badan (**BMI > 25**) lebih berisiko memiliki **biaya kesehatan tinggi**, dibandingkan non-perokok dengan BMI sama.\n"
   ]
  },
  {
   "cell_type": "code",
   "execution_count": 103,
   "id": "ada1a5894def832b",
   "metadata": {
    "ExecuteTime": {
     "end_time": "2025-06-11T14:51:02.242561Z",
     "start_time": "2025-06-11T14:51:01.915701Z"
    }
   },
   "outputs": [
    {
     "data": {
      "text/plain": [
       "<Axes: title={'center': 'Pearson Correlation pada Dataset'}>"
      ]
     },
     "execution_count": 103,
     "metadata": {},
     "output_type": "execute_result"
    },
    {
     "data": {
      "image/png": "[encoded data removed]",
      "text/plain": [
       "<Figure size 800x800 with 2 Axes>"
      ]
     },
     "metadata": {},
     "output_type": "display_data"
    }
   ],
   "source": [
    "data_corr = df[['age', 'bmi', 'children', 'charges']].corr(method='pearson')\n",
    "colormap = plt.cm.RdBu\n",
    "plt.figure(figsize=(8,8))\n",
    "plt.title('Pearson Correlation pada Dataset', y=1.05, size=15)\n",
    "sns.heatmap(data_corr,linewidths=0.1,vmax=0.5,\n",
    "            square=True, cmap='mako', linecolor='white', annot=True)"
   ]
  },
  {
   "cell_type": "markdown",
   "id": "c18d5e06",
   "metadata": {},
   "source": [
    "## 🔎 Kesimpulan Korelasi Pearson\n",
    "\n",
    "Berdasarkan analisis korelasi:\n",
    "\n",
    "- Terdapat hubungan **positif lemah** antara:\n",
    "  - `age` dan `charges` (r = 0.30)\n",
    "  - `bmi` dan `charges` (r = 0.20)\n",
    "\n",
    "- Korelasi antara `children` dan `charges` sangat rendah (r = 0.068), artinya **jumlah anak tidak banyak memengaruhi tagihan kesehatan**.\n",
    "\n",
    "### ✅ Simpulan:\n",
    "Semakin **tua** dan semakin **tinggi BMI**, kemungkinan besar **biaya kesehatan akan lebih tinggi**, meskipun korelasinya masih tergolong lemah.\n"
   ]
  },
  {
   "cell_type": "code",
   "execution_count": 160,
   "id": "e5c1ede43a10b5db",
   "metadata": {
    "ExecuteTime": {
     "end_time": "2025-06-11T14:51:22.379443Z",
     "start_time": "2025-06-11T14:51:22.374472Z"
    }
   },
   "outputs": [],
   "source": [
    "# Function untuk keputusan berdasarkan nilai p-value\n",
    "alpha = 0.05  # Batas signifikan (5%)\n",
    "\n",
    "# Fungsi untuk memberikan interpretasi hasil uji\n",
    "def result(p_value):\n",
    "    if p_value <= alpha:\n",
    "        print('Tolak H₀ (ada hubungan atau perbedaan yang signifikan)')\n",
    "    else:\n",
    "        print('Tidak ada cukup bukti untuk menunjukkan perbedaan (H₀ tidak ditolak)')"
   ]
  },
  {
   "cell_type": "code",
   "execution_count": 176,
   "id": "8b403e1014418d7f",
   "metadata": {
    "ExecuteTime": {
     "end_time": "2025-06-11T14:51:33.135540Z",
     "start_time": "2025-06-11T14:51:33.106850Z"
    }
   },
   "outputs": [
    {
     "name": "stdout",
     "output_type": "stream",
     "text": [
      "P-value: 0.006548143503580697\n",
      "Tolak H₀ (ada hubungan atau perbedaan yang signifikan)\n"
     ]
    }
   ],
   "source": [
    "# Membuat tabel kontingensi antara kolom 'smoker' dan 'sex'\n",
    "cont = pd.crosstab(df['smoker'], df['sex'])\n",
    "\n",
    "# Mengambil nilai dari tabel kontingensi dalam bentuk array\n",
    "# Baris pertama dan kedua dari tabel diambil nilainya untuk uji chi-square\n",
    "value = np.array([cont.iloc[0][0:2].values, cont.iloc[1][0:2].values])\n",
    "\n",
    "# Menghitung nilai uji Chi-Square\n",
    "# c: nilai statistik chi-square\n",
    "# p: nilai p-value\n",
    "# dof: derajat kebebasan\n",
    "# expected: nilai ekspektasi dari tabel kontingensi\n",
    "c, p, dof, expected = stats.chi2_contingency(value)\n",
    "\n",
    "# Menampilkan nilai p-value\n",
    "print('P-value:', p)\n",
    "\n",
    "# Menentukan keputusan berdasarkan p-value\n",
    "result(p)\n",
    "\n"
   ]
  },
  {
   "cell_type": "code",
   "execution_count": 186,
   "id": "353a3b7fd5665228",
   "metadata": {
    "ExecuteTime": {
     "end_time": "2025-06-11T14:54:03.754706Z",
     "start_time": "2025-06-11T14:54:03.733173Z"
    }
   },
   "outputs": [
    {
     "name": "stdout",
     "output_type": "stream",
     "text": [
      "P-value: 0.0016808765833903443\n",
      "Tolak H₀ (ada hubungan atau perbedaan yang signifikan)\n"
     ]
    }
   ],
   "source": [
    "# Mengambil data 'charges' untuk laki-laki\n",
    "male = df[df['sex'] == 'male']['charges']\n",
    "\n",
    "# Mengambil data 'charges' untuk perempuan\n",
    "female = df[df['sex'] == 'female']['charges']\n",
    "\n",
    "# Melakukan uji Levene untuk menguji apakah varians (keragaman) antara dua kelompok sama\n",
    "stat, p = levene(male, female)\n",
    "\n",
    "# Menampilkan nilai p-value dari uji Levene\n",
    "print('P-value:', p)\n",
    "\n",
    "# Menentukan kesimpulan berdasarkan p-value (pakai fungsi result yang sudah didefinisikan sebelumnya)\n",
    "result(p)\n"
   ]
  },
  {
   "cell_type": "markdown",
   "id": "f841ad79",
   "metadata": {},
   "source": [
    "## Kesimpulan Analisis Statistik\n",
    "\n",
    "### 🔍 Uji Hubungan antara Perokok dan Jenis Kelamin (Chi-Square Test)\n",
    "- **P-value:** 0.0065\n",
    "- **Keputusan:** Tolak H₀\n",
    "- **Kesimpulan:** Terdapat **hubungan yang signifikan** antara status perokok dan jenis kelamin responden.\n",
    "\n",
    "---\n",
    "\n",
    "### 📊 Uji Perbedaan Varians Biaya Kesehatan antara Laki-laki dan Perempuan (Levene's Test)\n",
    "- **P-value:** 0.0017\n",
    "- **Keputusan:** Tolak H₀\n",
    "- **Kesimpulan:** Terdapat **perbedaan varians yang signifikan** dalam biaya kesehatan antara laki-laki dan perempuan.\n",
    "\n",
    "---\n",
    "\n",
    "### ✅ Interpretasi Umum:\n",
    "- Kedua uji menunjukkan hasil yang signifikan (p-value < 0.05), artinya **ada perbedaan atau hubungan nyata** dalam data yang dianalisis.\n"
   ]
  },
  {
   "cell_type": "code",
   "execution_count": 190,
   "id": "428729e17a6825bd",
   "metadata": {
    "ExecuteTime": {
     "end_time": "2025-06-11T14:54:12.246283Z",
     "start_time": "2025-06-11T14:54:12.227267Z"
    }
   },
   "outputs": [
    {
     "name": "stdout",
     "output_type": "stream",
     "text": [
      "P-value: 0.01806636050296488\n",
      "Tolak H₀ (ada hubungan atau perbedaan yang signifikan)\n"
     ]
    }
   ],
   "source": [
    "# Uji T arah kanan\n",
    "st,p = stats.ttest_ind(male,female)\n",
    "print('P-value:',(p/2))\n",
    "result(p/2)"
   ]
  },
  {
   "cell_type": "markdown",
   "id": "d676126b",
   "metadata": {},
   "source": [
    "### Kesimpulan Uji T Satu Arah (Independent T-Test)\n",
    "\n",
    "Berdasarkan hasil uji T dua sampel independen satu arah terhadap data `charges` antara laki-laki dan perempuan:\n",
    "\n",
    "- **Hipotesis nol (H₀)**: Tidak ada perbedaan atau rata-rata charges laki-laki ≤ perempuan.\n",
    "- **Hipotesis alternatif (H₁)**: Rata-rata charges laki-laki > perempuan (uji arah kanan).\n",
    "- **P-value (arah kanan)**: 0.018\n",
    "- **Alpha (α)**: 0.05\n",
    "\n",
    "Karena **p-value < α**, maka kita **menolak H₀**.\n",
    "\n",
    "✅ **Kesimpulan:** Terdapat **perbedaan yang signifikan** dalam rata-rata biaya kesehatan antara laki-laki dan perempuan, di mana **laki-laki cenderung memiliki biaya lebih tinggi**.\n"
   ]
  }
 ],
 "metadata": {
  "kernelspec": {
   "display_name": "Python 3",
   "language": "python",
   "name": "python3"
  },
  "language_info": {
   "codemirror_mode": {
    "name": "ipython",
    "version": 3
   },
   "file_extension": ".py",
   "mimetype": "text/x-python",
   "name": "python",
   "nbconvert_exporter": "python",
   "pygments_lexer": "ipython3",
   "version": "3.13.0"
  }
 },
 "nbformat": 4,
 "nbformat_minor": 5
}
